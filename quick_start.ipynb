{
 "cells": [
  {
   "cell_type": "code",
   "execution_count": 1,
   "metadata": {},
   "outputs": [],
   "source": [
    "\n",
    "import argparse\n",
    "import random,os\n",
    "import numpy as np\n",
    "import argparse\n",
    "import torch\n",
    "from tqdm import tqdm\n",
    "import scanpy as sc\n",
    "import torch.nn.functional as F\n",
    "from model.load import *"
   ]
  },
  {
   "cell_type": "code",
   "execution_count": 2,
   "metadata": {},
   "outputs": [],
   "source": [
    "#Set random seed\n",
    "random.seed(0)\n",
    "np.random.seed(0)  # numpy random generator\n",
    "\n",
    "torch.manual_seed(0)\n",
    "torch.cuda.manual_seed_all(0)\n",
    "device = torch.device('cuda:0')"
   ]
  },
  {
   "cell_type": "code",
   "execution_count": 3,
   "metadata": {},
   "outputs": [
    {
     "name": "stdout",
     "output_type": "stream",
     "text": [
      "{'mask_gene_name': False, 'gene_num': 19266, 'seq_len': 19266, 'encoder': {'hidden_dim': 768, 'depth': 12, 'heads': 12, 'dim_head': 64, 'seq_len': 19266, 'module_type': 'transformer', 'norm_first': False}, 'decoder': {'hidden_dim': 512, 'depth': 6, 'heads': 8, 'dim_head': 64, 'module_type': 'performer', 'seq_len': 19266, 'norm_first': False}, 'n_class': 104, 'pad_token_id': 103, 'mask_token_id': 102, 'bin_num': 100, 'bin_alpha': 1.0, 'rawcount': True, 'model': 'mae_autobin', 'test_valid_train_idx_dict': '/nfs_beijing/minsheng/data/os10000w-new/global_shuffle/meta.csv.train_set_idx_dict.pt', 'valid_data_path': '/nfs_beijing/minsheng/data/valid_count_10w.npz', 'num_tokens': 13, 'train_data_path': None, 'isPanA': False, 'isPlanA1': False, 'max_files_to_load': 5, 'bin_type': 'auto_bin', 'value_mask_prob': 0.3, 'zero_mask_prob': 0.03, 'replace_prob': 0.8, 'random_token_prob': 0.1, 'mask_ignore_token_ids': [0], 'decoder_add_zero': True, 'mae_encoder_max_seq_len': 15000, 'isPlanA': False, 'mask_prob': 0.3, 'model_type': 'mae_autobin', 'pos_embed': False, 'device': 'cuda', 'ppi_edge': None}\n",
      "level: 12 latent_dim: 32 condition_layer: 6\n",
      "load model success\n"
     ]
    },
    {
     "data": {
      "text/plain": [
       "Model(\n",
       "  (token_emb): AutoDiscretizationEmbedding2(\n",
       "    (mlp): Linear(in_features=1, out_features=100, bias=True)\n",
       "    (mlp2): Linear(in_features=100, out_features=100, bias=True)\n",
       "    (LeakyReLU): LeakyReLU(negative_slope=0.1)\n",
       "    (Softmax): Softmax(dim=-1)\n",
       "    (emb): Embedding(100, 768)\n",
       "    (emb_mask): Embedding(1, 768)\n",
       "    (emb_pad): Embedding(1, 768)\n",
       "  )\n",
       "  (pos_emb): Embedding(19267, 768)\n",
       "  (cell_vq): SoftCVQLayer(\n",
       "    (embedding_mlp): Sequential(\n",
       "      (0): Linear(in_features=12, out_features=1024, bias=True)\n",
       "      (1): BatchNorm1d(1024, eps=1e-05, momentum=0.1, affine=True, track_running_stats=True)\n",
       "      (2): ReLU()\n",
       "      (3): Linear(in_features=1024, out_features=1024, bias=True)\n",
       "      (4): BatchNorm1d(1024, eps=1e-05, momentum=0.1, affine=True, track_running_stats=True)\n",
       "      (5): ReLU()\n",
       "      (6): Linear(in_features=1024, out_features=1024, bias=True)\n",
       "      (7): BatchNorm1d(1024, eps=1e-05, momentum=0.1, affine=True, track_running_stats=True)\n",
       "      (8): ReLU()\n",
       "      (9): Linear(in_features=1024, out_features=1024, bias=True)\n",
       "      (10): BatchNorm1d(1024, eps=1e-05, momentum=0.1, affine=True, track_running_stats=True)\n",
       "      (11): ReLU()\n",
       "      (12): Linear(in_features=1024, out_features=1024, bias=True)\n",
       "      (13): BatchNorm1d(1024, eps=1e-05, momentum=0.1, affine=True, track_running_stats=True)\n",
       "      (14): ReLU()\n",
       "      (15): Linear(in_features=1024, out_features=32, bias=True)\n",
       "    )\n",
       "    (proj): Linear(in_features=768, out_features=32, bias=True)\n",
       "    (proj_inv): Linear(in_features=32, out_features=768, bias=True)\n",
       "    (MSE): HuberLoss()\n",
       "  )\n",
       "  (decoder_embed): Linear(in_features=768, out_features=512, bias=True)\n",
       "  (norm): LayerNorm((512,), eps=1e-05, elementwise_affine=True)\n",
       "  (to_final): Linear(in_features=512, out_features=1, bias=True)\n",
       "  (cell_type): Linear(in_features=3072, out_features=831, bias=True)\n",
       "  (tissue): Linear(in_features=3072, out_features=377, bias=True)\n",
       "  (disease): Linear(in_features=3072, out_features=150, bias=True)\n",
       "  (sex): Linear(in_features=3072, out_features=3, bias=True)\n",
       "  (age): Linear(in_features=3072, out_features=184, bias=True)\n",
       "  (mean): Linear(in_features=512, out_features=1, bias=True)\n",
       "  (disp): Linear(in_features=512, out_features=1, bias=True)\n",
       "  (pi): Linear(in_features=512, out_features=1, bias=True)\n",
       "  (go_embed): Linear(in_features=19266, out_features=768, bias=True)\n",
       "  (encoder): pytorchTransformerModule(\n",
       "    (transformer_encoder): ModuleList(\n",
       "      (0-11): 12 x TransformerEncoderLayer(\n",
       "        (self_attn): MultiheadAttention(\n",
       "          (out_proj): NonDynamicallyQuantizableLinear(in_features=768, out_features=768, bias=True)\n",
       "        )\n",
       "        (linear1): Linear(in_features=768, out_features=3072, bias=True)\n",
       "        (dropout): Dropout(p=0.1, inplace=False)\n",
       "        (linear2): Linear(in_features=3072, out_features=768, bias=True)\n",
       "        (norm1): LayerNorm((768,), eps=1e-05, elementwise_affine=True)\n",
       "        (norm2): LayerNorm((768,), eps=1e-05, elementwise_affine=True)\n",
       "        (dropout1): Dropout(p=0.1, inplace=False)\n",
       "        (dropout2): Dropout(p=0.1, inplace=False)\n",
       "      )\n",
       "    )\n",
       "    (norm): LayerNorm((768,), eps=1e-05, elementwise_affine=True)\n",
       "  )\n",
       "  (decoder): PerformerModule(\n",
       "    (performer): Performer(\n",
       "      (net): SequentialSequence(\n",
       "        (layers): ModuleList(\n",
       "          (0-5): 6 x ModuleList(\n",
       "            (0): PreLayerNorm(\n",
       "              (norm): LayerNorm((512,), eps=1e-05, elementwise_affine=True)\n",
       "              (fn): SelfAttention(\n",
       "                (fast_attention): FastAttention(\n",
       "                  (kernel_fn): ReLU()\n",
       "                )\n",
       "                (to_q): Linear(in_features=512, out_features=512, bias=True)\n",
       "                (to_k): Linear(in_features=512, out_features=512, bias=True)\n",
       "                (to_v): Linear(in_features=512, out_features=512, bias=True)\n",
       "                (to_out): Linear(in_features=512, out_features=512, bias=True)\n",
       "                (dropout): Dropout(p=0.0, inplace=False)\n",
       "              )\n",
       "            )\n",
       "            (1): PreLayerNorm(\n",
       "              (norm): LayerNorm((512,), eps=1e-05, elementwise_affine=True)\n",
       "              (fn): Chunk(\n",
       "                (fn): FeedForward(\n",
       "                  (w1): Linear(in_features=512, out_features=2048, bias=True)\n",
       "                  (act): GELU(approximate='none')\n",
       "                  (dropout): Dropout(p=0.0, inplace=False)\n",
       "                  (w2): Linear(in_features=2048, out_features=512, bias=True)\n",
       "                )\n",
       "              )\n",
       "            )\n",
       "          )\n",
       "        )\n",
       "      )\n",
       "    )\n",
       "    (norm): LayerNorm((512,), eps=1e-05, elementwise_affine=True)\n",
       "  )\n",
       ")"
      ]
     },
     "execution_count": 3,
     "metadata": {},
     "output_type": "execute_result"
    }
   ],
   "source": [
    "# define data path\n",
    "data_path = './examples/cluster_19264.h5ad'\n",
    "\n",
    "# load model\n",
    "ckpt_path = './model/models/models.ckpt'\n",
    "pretrainmodel,pretrainconfig = load_model_frommmf(ckpt_path, 'm1', device=device)\n",
    "pretrainmodel.eval()"
   ]
  },
  {
   "cell_type": "code",
   "execution_count": null,
   "metadata": {},
   "outputs": [
    {
     "name": "stderr",
     "output_type": "stream",
     "text": [
      "/root/anaconda3/envs/flash/lib/python3.9/site-packages/anndata/_core/anndata.py:1754: UserWarning: Observation names are not unique. To make them unique, call `.obs_names_make_unique`.\n",
      "  utils.warn_names_duplicates(\"obs\")\n",
      "  0%|          | 0/10000 [00:00<?, ?it/s]/root/anaconda3/envs/flash/lib/python3.9/site-packages/torch/nn/modules/transformer.py:562: UserWarning: Converting mask without torch.bool dtype to bool; this will negatively affect performance. Prefer to use a boolean mask directly. (Triggered internally at /opt/conda/conda-bld/pytorch_1682343964576/work/aten/src/ATen/native/transformers/attention.cpp:150.)\n",
      "  return torch._transformer_encoder_layer_fwd(\n",
      "100%|██████████| 10000/10000 [04:42<00:00, 35.45it/s]\n"
     ]
    }
   ],
   "source": [
    "# inference\n",
    "\n",
    "def get_cellemb(geneemb, pool_type='max'):\n",
    "    geneemb1 = geneemb[:,-1,:]\n",
    "    geneemb2 = geneemb[:,-2,:]\n",
    "    geneemb3, _ = torch.max(geneemb[:,:-2,:], dim=1)\n",
    "    geneemb4 = torch.mean(geneemb[:,:-2,:], dim=1)\n",
    "    if pool_type=='all':\n",
    "        geneembmerge = torch.concat([geneemb1,geneemb2,geneemb3,geneemb4],axis=1)\n",
    "    elif pool_type=='max':\n",
    "        geneembmerge, _ = torch.max(geneemb, dim=1)\n",
    "    else:\n",
    "        raise ValueError('pool_type must be all or max')\n",
    "    return geneembmerge\n",
    "\n",
    "gexpr_feature = sc.read(data_path).X.toarray() if data_path.endswith('.h5ad') else np.load(data_path)\n",
    "cellembs=[]\n",
    "cell_codes = []\n",
    "for i in tqdm(range(gexpr_feature.shape[0])):\n",
    "    with torch.no_grad():\n",
    "        # pre-Normalization\n",
    "        tmpdata = (np.log1p(gexpr_feature[i,:]/(gexpr_feature[i,:].sum())*1e4)).tolist()\n",
    "        totalcount = gexpr_feature[i,:].sum()\n",
    "        pretrain_gene_x = torch.tensor(tmpdata+[4.0,np.log10(totalcount)]).unsqueeze(0).to(device)\n",
    "\n",
    "        encoder_data, encoder_position_gene_ids, encoder_data_padding, encoder_labels, decoder_data, decoder_data_padding, new_data_raw, data_mask_labels, decoder_position_gene_ids = getEncoerDecoderData(pretrain_gene_x.float(),pretrain_gene_x.float(),pretrainconfig)\n",
    "        x, cell_code, _ = pretrainmodel.get_vqcode(x=encoder_data, \n",
    "                                        padding_label=encoder_data_padding, \n",
    "                                        encoder_position_gene_ids=encoder_position_gene_ids, \n",
    "                                        output_attentions=False)\n",
    "        cellembs.append(get_cellemb(x, pool_type='all').detach().cpu().numpy())\n",
    "        cell_codes.append(cell_code.detach().cpu().numpy())\n",
    "cellembs = np.squeeze(np.array(cellembs))\n",
    "cell_codes = np.squeeze(np.array(cell_codes))"
   ]
  },
  {
   "cell_type": "code",
   "execution_count": 8,
   "metadata": {},
   "outputs": [
    {
     "data": {
      "text/plain": [
       "(10000, 3072)"
      ]
     },
     "execution_count": 8,
     "metadata": {},
     "output_type": "execute_result"
    }
   ],
   "source": [
    "cellembs.shape"
   ]
  },
  {
   "cell_type": "code",
   "execution_count": 9,
   "metadata": {},
   "outputs": [
    {
     "data": {
      "text/plain": [
       "array([3049, 2821, 2349, ..., 4020, 1818, 1433])"
      ]
     },
     "execution_count": 9,
     "metadata": {},
     "output_type": "execute_result"
    }
   ],
   "source": [
    "cell_codes"
   ]
  },
  {
   "cell_type": "code",
   "execution_count": null,
   "metadata": {},
   "outputs": [
    {
     "name": "stdout",
     "output_type": "stream",
     "text": [
      "12\n"
     ]
    },
    {
     "name": "stderr",
     "output_type": "stream",
     "text": [
      "/root/anaconda3/envs/flash/lib/python3.9/site-packages/anndata/_core/anndata.py:1754: UserWarning: Observation names are not unique. To make them unique, call `.obs_names_make_unique`.\n",
      "  utils.warn_names_duplicates(\"obs\")\n"
     ]
    }
   ],
   "source": [
    "# load pancreas test data\n",
    "data_path = '/guoxiaopeng/wangjue/data/celldata/scGPT/data/cellxgene/test_data/pancreas_sub.h5ad'\n",
    "data0 = sc.read(data_path)\n",
    "cell_uni = data0.obs['cell_type'].unique().tolist()\n",
    "cell_type_int = np.array([cell_uni.index(item) for item in data0.obs['cell_type']])\n",
    "cluster_num = 12\n",
    "print(cluster_num)"
   ]
  },
  {
   "cell_type": "code",
   "execution_count": 11,
   "metadata": {},
   "outputs": [
    {
     "name": "stdout",
     "output_type": "stream",
     "text": [
      "0.9095 0.91879 0.91101 0.4629301\n"
     ]
    }
   ],
   "source": [
    "# perform clustering task on pancreas data\n",
    "\n",
    "from sklearn.cluster import KMeans\n",
    "import numpy as np\n",
    "from sklearn import metrics\n",
    "from sklearn.metrics import silhouette_score\n",
    "\n",
    "def cluster_acc(y_true, y_pred):\n",
    "    \"\"\"\n",
    "    Calculate clustering accuracy. Require scikit-learn installed\n",
    "    # Arguments\n",
    "        y: true labels, numpy.array with shape `(n_samples,)`\n",
    "        y_pred: predicted labels, numpy.array with shape `(n_samples,)`\n",
    "    # Return\n",
    "        accuracy, in [0,1]\n",
    "    \"\"\"\n",
    "    y_true = y_true.astype(np.int64)\n",
    "    assert y_pred.size == y_true.size\n",
    "    D = max(y_pred.max(), y_true.max()) + 1\n",
    "    w = np.zeros((D, D), dtype=np.int64)\n",
    "    for i in range(y_pred.size):\n",
    "        w[y_pred[i], y_true[i]] += 1\n",
    "    from scipy.optimize import linear_sum_assignment\n",
    "    row_ind, col_ind = linear_sum_assignment(w.max() - w)\n",
    "    ind = np.array(list(zip(row_ind, col_ind)))\n",
    "    return sum([w[i, j] for i, j in ind]) * 1.0 / y_pred.size\n",
    "\n",
    "def cal_cluster_metrics(y, y_pred, X):\n",
    "    acc = np.round(cluster_acc(y, y_pred), 5)\n",
    "    y = list(map(int, y))\n",
    "    y_pred = np.array(y_pred)\n",
    "    nmi = np.round(metrics.normalized_mutual_info_score(y, y_pred), 5)\n",
    "    ari = np.round(metrics.adjusted_rand_score(y, y_pred), 5)\n",
    "    sil = silhouette_score(X, np.array(y))\n",
    "    return acc, nmi, ari, sil\n",
    "\n",
    "kmeans = KMeans(cluster_num)\n",
    "kmeans.fit(cellembs)\n",
    "acc1, nmi1, ari1, sil1 = cal_cluster_metrics(cell_type_int, kmeans.labels_, cellembs)\n",
    "print(acc1, nmi1, ari1, sil1)"
   ]
  },
  {
   "cell_type": "code",
   "execution_count": null,
   "metadata": {},
   "outputs": [
    {
     "name": "stdout",
     "output_type": "stream",
     "text": [
      "WARNING: saving figure to file figures/umappancreas.pdf\n"
     ]
    },
    {
     "data": {
      "image/png": "[encoded data removed]",
      "text/plain": [
       "<Figure size 640x480 with 1 Axes>"
      ]
     },
     "metadata": {},
     "output_type": "display_data"
    }
   ],
   "source": [
    "# UMAP visulization on pancreas data\n",
    "sc_data = sc.AnnData(cellembs)\n",
    "sc.pp.neighbors(sc_data, use_rep='X', random_state=0)\n",
    "sc.tl.umap(sc_data)\n",
    "sc_data.obs['true_labels'] = data0.obs['cell_type'].tolist()\n",
    "sc.pl.umap(sc_data,color=['true_labels'],wspace=0.3,size=30,save='pancreas', frameon=True)"
   ]
  },
  {
   "cell_type": "code",
   "execution_count": 22,
   "metadata": {},
   "outputs": [
    {
     "name": "stdout",
     "output_type": "stream",
     "text": [
      "{'mask_gene_name': False, 'gene_num': 19266, 'seq_len': 19266, 'encoder': {'hidden_dim': 768, 'depth': 12, 'heads': 12, 'dim_head': 64, 'seq_len': 19266, 'module_type': 'transformer', 'norm_first': False}, 'decoder': {'hidden_dim': 512, 'depth': 6, 'heads': 8, 'dim_head': 64, 'module_type': 'performer', 'seq_len': 19266, 'norm_first': False}, 'n_class': 104, 'pad_token_id': 103, 'mask_token_id': 102, 'bin_num': 100, 'bin_alpha': 1.0, 'rawcount': True, 'model': 'mae_autobin', 'test_valid_train_idx_dict': '/nfs_beijing/minsheng/data/os10000w-new/global_shuffle/meta.csv.train_set_idx_dict.pt', 'valid_data_path': '/nfs_beijing/minsheng/data/valid_count_10w.npz', 'num_tokens': 13, 'train_data_path': None, 'isPanA': False, 'isPlanA1': False, 'max_files_to_load': 5, 'bin_type': 'auto_bin', 'value_mask_prob': 0.3, 'zero_mask_prob': 0.03, 'replace_prob': 0.8, 'random_token_prob': 0.1, 'mask_ignore_token_ids': [0], 'decoder_add_zero': True, 'mae_encoder_max_seq_len': 15000, 'isPlanA': False, 'mask_prob': 0.3, 'model_type': 'mae_autobin', 'pos_embed': False, 'device': 'cuda', 'ppi_edge': None}\n",
      "level: 12 latent_dim: 32 condition_layer: 6\n",
      "load model success\n"
     ]
    },
    {
     "data": {
      "text/plain": [
       "Model(\n",
       "  (token_emb): AutoDiscretizationEmbedding2(\n",
       "    (mlp): Linear(in_features=1, out_features=100, bias=True)\n",
       "    (mlp2): Linear(in_features=100, out_features=100, bias=True)\n",
       "    (LeakyReLU): LeakyReLU(negative_slope=0.1)\n",
       "    (Softmax): Softmax(dim=-1)\n",
       "    (emb): Embedding(100, 768)\n",
       "    (emb_mask): Embedding(1, 768)\n",
       "    (emb_pad): Embedding(1, 768)\n",
       "  )\n",
       "  (pos_emb): Embedding(19267, 768)\n",
       "  (cell_vq): SoftCVQLayer(\n",
       "    (embedding_mlp): Sequential(\n",
       "      (0): Linear(in_features=12, out_features=1024, bias=True)\n",
       "      (1): BatchNorm1d(1024, eps=1e-05, momentum=0.1, affine=True, track_running_stats=True)\n",
       "      (2): ReLU()\n",
       "      (3): Linear(in_features=1024, out_features=1024, bias=True)\n",
       "      (4): BatchNorm1d(1024, eps=1e-05, momentum=0.1, affine=True, track_running_stats=True)\n",
       "      (5): ReLU()\n",
       "      (6): Linear(in_features=1024, out_features=1024, bias=True)\n",
       "      (7): BatchNorm1d(1024, eps=1e-05, momentum=0.1, affine=True, track_running_stats=True)\n",
       "      (8): ReLU()\n",
       "      (9): Linear(in_features=1024, out_features=1024, bias=True)\n",
       "      (10): BatchNorm1d(1024, eps=1e-05, momentum=0.1, affine=True, track_running_stats=True)\n",
       "      (11): ReLU()\n",
       "      (12): Linear(in_features=1024, out_features=1024, bias=True)\n",
       "      (13): BatchNorm1d(1024, eps=1e-05, momentum=0.1, affine=True, track_running_stats=True)\n",
       "      (14): ReLU()\n",
       "      (15): Linear(in_features=1024, out_features=32, bias=True)\n",
       "    )\n",
       "    (proj): Linear(in_features=768, out_features=32, bias=True)\n",
       "    (proj_inv): Linear(in_features=32, out_features=768, bias=True)\n",
       "    (MSE): HuberLoss()\n",
       "  )\n",
       "  (decoder_embed): Linear(in_features=768, out_features=512, bias=True)\n",
       "  (norm): LayerNorm((512,), eps=1e-05, elementwise_affine=True)\n",
       "  (to_final): Linear(in_features=512, out_features=1, bias=True)\n",
       "  (cell_type): Linear(in_features=3072, out_features=831, bias=True)\n",
       "  (tissue): Linear(in_features=3072, out_features=377, bias=True)\n",
       "  (disease): Linear(in_features=3072, out_features=150, bias=True)\n",
       "  (sex): Linear(in_features=3072, out_features=3, bias=True)\n",
       "  (age): Linear(in_features=3072, out_features=184, bias=True)\n",
       "  (mean): Linear(in_features=512, out_features=1, bias=True)\n",
       "  (disp): Linear(in_features=512, out_features=1, bias=True)\n",
       "  (pi): Linear(in_features=512, out_features=1, bias=True)\n",
       "  (go_embed): Linear(in_features=19266, out_features=768, bias=True)\n",
       "  (encoder): pytorchTransformerModule(\n",
       "    (transformer_encoder): ModuleList(\n",
       "      (0-11): 12 x TransformerEncoderLayer(\n",
       "        (self_attn): MultiheadAttention(\n",
       "          (out_proj): NonDynamicallyQuantizableLinear(in_features=768, out_features=768, bias=True)\n",
       "        )\n",
       "        (linear1): Linear(in_features=768, out_features=3072, bias=True)\n",
       "        (dropout): Dropout(p=0.1, inplace=False)\n",
       "        (linear2): Linear(in_features=3072, out_features=768, bias=True)\n",
       "        (norm1): LayerNorm((768,), eps=1e-05, elementwise_affine=True)\n",
       "        (norm2): LayerNorm((768,), eps=1e-05, elementwise_affine=True)\n",
       "        (dropout1): Dropout(p=0.1, inplace=False)\n",
       "        (dropout2): Dropout(p=0.1, inplace=False)\n",
       "      )\n",
       "    )\n",
       "    (norm): LayerNorm((768,), eps=1e-05, elementwise_affine=True)\n",
       "  )\n",
       "  (decoder): PerformerModule(\n",
       "    (performer): Performer(\n",
       "      (net): SequentialSequence(\n",
       "        (layers): ModuleList(\n",
       "          (0-5): 6 x ModuleList(\n",
       "            (0): PreLayerNorm(\n",
       "              (norm): LayerNorm((512,), eps=1e-05, elementwise_affine=True)\n",
       "              (fn): SelfAttention(\n",
       "                (fast_attention): FastAttention(\n",
       "                  (kernel_fn): ReLU()\n",
       "                )\n",
       "                (to_q): Linear(in_features=512, out_features=512, bias=True)\n",
       "                (to_k): Linear(in_features=512, out_features=512, bias=True)\n",
       "                (to_v): Linear(in_features=512, out_features=512, bias=True)\n",
       "                (to_out): Linear(in_features=512, out_features=512, bias=True)\n",
       "                (dropout): Dropout(p=0.0, inplace=False)\n",
       "              )\n",
       "            )\n",
       "            (1): PreLayerNorm(\n",
       "              (norm): LayerNorm((512,), eps=1e-05, elementwise_affine=True)\n",
       "              (fn): Chunk(\n",
       "                (fn): FeedForward(\n",
       "                  (w1): Linear(in_features=512, out_features=2048, bias=True)\n",
       "                  (act): GELU(approximate='none')\n",
       "                  (dropout): Dropout(p=0.0, inplace=False)\n",
       "                  (w2): Linear(in_features=2048, out_features=512, bias=True)\n",
       "                )\n",
       "              )\n",
       "            )\n",
       "          )\n",
       "        )\n",
       "      )\n",
       "    )\n",
       "    (norm): LayerNorm((512,), eps=1e-05, elementwise_affine=True)\n",
       "  )\n",
       ")"
      ]
     },
     "execution_count": 22,
     "metadata": {},
     "output_type": "execute_result"
    }
   ],
   "source": [
    "# define data path\n",
    "data_path = '/guoxiaopeng/wangjue/data/celldata/chriscell_data/cell_type_rawdata/Segerstolpe/data-test-count.npy'\n",
    "\n",
    "# load model\n",
    "ckpt_path = './model/models/models.ckpt'\n",
    "pretrainmodel,pretrainconfig = load_model_frommmf(ckpt_path, 'm2', device=device)\n",
    "pretrainmodel.eval()"
   ]
  },
  {
   "cell_type": "code",
   "execution_count": 23,
   "metadata": {},
   "outputs": [
    {
     "name": "stderr",
     "output_type": "stream",
     "text": [
      "  0%|          | 0/427 [00:00<?, ?it/s]/root/anaconda3/envs/flash/lib/python3.9/site-packages/torch/nn/modules/transformer.py:562: UserWarning: Converting mask without torch.bool dtype to bool; this will negatively affect performance. Prefer to use a boolean mask directly. (Triggered internally at /opt/conda/conda-bld/pytorch_1682343964576/work/aten/src/ATen/native/transformers/attention.cpp:150.)\n",
      "  return torch._transformer_encoder_layer_fwd(\n",
      "100%|██████████| 427/427 [02:08<00:00,  3.32it/s]\n"
     ]
    }
   ],
   "source": [
    "# inference\n",
    "\n",
    "def get_cellemb(geneemb, pool_type='max'):\n",
    "    geneemb1 = geneemb[:,-1,:]\n",
    "    geneemb2 = geneemb[:,-2,:]\n",
    "    geneemb3, _ = torch.max(geneemb[:,:-2,:], dim=1)\n",
    "    geneemb4 = torch.mean(geneemb[:,:-2,:], dim=1)\n",
    "    if pool_type=='all':\n",
    "        geneembmerge = torch.concat([geneemb1,geneemb2,geneemb3,geneemb4],axis=1)\n",
    "    elif pool_type=='max':\n",
    "        geneembmerge, _ = torch.max(geneemb, dim=1)\n",
    "    else:\n",
    "        raise ValueError('pool_type must be all or max')\n",
    "    return geneembmerge\n",
    "\n",
    "gexpr_feature = sc.read(data_path).X.toarray() if data_path.endswith('.h5ad') else np.load(data_path)\n",
    "cellembs=[]\n",
    "cell_codes = []\n",
    "for i in tqdm(range(gexpr_feature.shape[0])):\n",
    "    with torch.no_grad():\n",
    "        # pre-Normalization\n",
    "        tmpdata = (np.log1p(gexpr_feature[i,:]/(gexpr_feature[i,:].sum())*1e4)).tolist()\n",
    "        totalcount = gexpr_feature[i,:].sum()\n",
    "        pretrain_gene_x = torch.tensor(tmpdata+[4.0,np.log10(totalcount)]).unsqueeze(0).to(device)\n",
    "\n",
    "        encoder_data, encoder_position_gene_ids, encoder_data_padding, encoder_labels, decoder_data, decoder_data_padding, new_data_raw, data_mask_labels, decoder_position_gene_ids = getEncoerDecoderData(pretrain_gene_x.float(),pretrain_gene_x.float(),pretrainconfig)\n",
    "        x, cell_code, _ = pretrainmodel.get_vqcode(x=encoder_data, \n",
    "                                        padding_label=encoder_data_padding, \n",
    "                                        encoder_position_gene_ids=encoder_position_gene_ids, \n",
    "                                        output_attentions=False)\n",
    "        cellembs.append(get_cellemb(x, pool_type='all').detach().cpu().numpy())\n",
    "        cell_codes.append(cell_code.detach().cpu().numpy())\n",
    "cellembs = np.squeeze(np.array(cellembs))\n",
    "cell_codes = np.squeeze(np.array(cell_codes))"
   ]
  },
  {
   "cell_type": "code",
   "execution_count": 29,
   "metadata": {},
   "outputs": [
    {
     "name": "stdout",
     "output_type": "stream",
     "text": [
      "12\n"
     ]
    }
   ],
   "source": [
    "# load Segerstolpe test data\n",
    "cell_type_int = np.load('/guoxiaopeng/wangjue/data/celldata/chriscell_data/cell_type_rawdata/Segerstolpe/Segerstolpe-test-label.npy')\n",
    "cluster_num = len(np.unique(cell_type_int)) - 1\n",
    "print(cluster_num)"
   ]
  },
  {
   "cell_type": "code",
   "execution_count": 30,
   "metadata": {},
   "outputs": [
    {
     "name": "stdout",
     "output_type": "stream",
     "text": [
      "0.79625 0.88548 0.71588 0.62934434\n"
     ]
    }
   ],
   "source": [
    "kmeans = KMeans(cluster_num)\n",
    "kmeans.fit(cellembs)\n",
    "acc1, nmi1, ari1, sil1 = cal_cluster_metrics(cell_type_int, kmeans.labels_, cellembs)\n",
    "print(acc1, nmi1, ari1, sil1)"
   ]
  },
  {
   "cell_type": "code",
   "execution_count": null,
   "metadata": {},
   "outputs": [],
   "source": [
    "# UMAP visulization on Segerstolpe data\n",
    "cell_type_str = np.load('/guoxiaopeng/wangjue/data/celldata/chriscell_data/cell_type_rawdata/Segerstolpe/Segerstolpe-str_label.npy')\n",
    "sc_data = sc.AnnData(cellembs)\n",
    "sc.pp.neighbors(sc_data, use_rep='X', random_state=0)\n",
    "sc.tl.umap(sc_data)\n",
    "sc_data.obs['true_labels'] = [cell_type_str[i] for i in cell_type_int]\n",
    "sc.pl.umap(sc_data,color=['true_labels'],wspace=0.3,size=30,save='Segerstolpe', frameon=True)"
   ]
  }
 ],
 "metadata": {
  "kernelspec": {
   "display_name": "flash",
   "language": "python",
   "name": "python3"
  },
  "language_info": {
   "codemirror_mode": {
    "name": "ipython",
    "version": 3
   },
   "file_extension": ".py",
   "mimetype": "text/x-python",
   "name": "python",
   "nbconvert_exporter": "python",
   "pygments_lexer": "ipython3",
   "version": "3.9.17"
  }
 },
 "nbformat": 4,
 "nbformat_minor": 2
}
